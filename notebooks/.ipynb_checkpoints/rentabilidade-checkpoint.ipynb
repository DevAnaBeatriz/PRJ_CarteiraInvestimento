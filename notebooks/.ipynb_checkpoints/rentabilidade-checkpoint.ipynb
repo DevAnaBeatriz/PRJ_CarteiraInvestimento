{
 "cells": [
  {
   "cell_type": "code",
   "execution_count": 2,
   "id": "677de45c-b5a8-4682-97eb-44d3478dd1bf",
   "metadata": {},
   "outputs": [
    {
     "ename": "FileNotFoundError",
     "evalue": "[Errno 2] No such file or directory: '../data/carteira.txt'",
     "output_type": "error",
     "traceback": [
      "\u001b[1;31m---------------------------------------------------------------------------\u001b[0m",
      "\u001b[1;31mFileNotFoundError\u001b[0m                         Traceback (most recent call last)",
      "Cell \u001b[1;32mIn[2], line 9\u001b[0m\n\u001b[0;32m      6\u001b[0m pdr\u001b[38;5;241m.\u001b[39mget_data_yahoo \u001b[38;5;241m=\u001b[39m yf\u001b[38;5;241m.\u001b[39mdownload  \n\u001b[0;32m      8\u001b[0m \u001b[38;5;66;03m# Lendo a carteira\u001b[39;00m\n\u001b[1;32m----> 9\u001b[0m \u001b[38;5;28;01mwith\u001b[39;00m \u001b[38;5;28;43mopen\u001b[39;49m\u001b[43m(\u001b[49m\u001b[38;5;124;43m\"\u001b[39;49m\u001b[38;5;124;43m../data/carteira.txt\u001b[39;49m\u001b[38;5;124;43m\"\u001b[39;49m\u001b[43m,\u001b[49m\u001b[43m \u001b[49m\u001b[38;5;124;43m\"\u001b[39;49m\u001b[38;5;124;43mr\u001b[39;49m\u001b[38;5;124;43m\"\u001b[39;49m\u001b[43m)\u001b[49m \u001b[38;5;28;01mas\u001b[39;00m arquivo:\n\u001b[0;32m     10\u001b[0m     linhas \u001b[38;5;241m=\u001b[39m arquivo\u001b[38;5;241m.\u001b[39mreadlines()\n\u001b[0;32m     12\u001b[0m carteira \u001b[38;5;241m=\u001b[39m {}\n",
      "File \u001b[1;32m~\\AppData\\Local\\Packages\\PythonSoftwareFoundation.Python.3.12_qbz5n2kfra8p0\\LocalCache\\local-packages\\Python312\\site-packages\\IPython\\core\\interactiveshell.py:324\u001b[0m, in \u001b[0;36m_modified_open\u001b[1;34m(file, *args, **kwargs)\u001b[0m\n\u001b[0;32m    317\u001b[0m \u001b[38;5;28;01mif\u001b[39;00m file \u001b[38;5;129;01min\u001b[39;00m {\u001b[38;5;241m0\u001b[39m, \u001b[38;5;241m1\u001b[39m, \u001b[38;5;241m2\u001b[39m}:\n\u001b[0;32m    318\u001b[0m     \u001b[38;5;28;01mraise\u001b[39;00m \u001b[38;5;167;01mValueError\u001b[39;00m(\n\u001b[0;32m    319\u001b[0m         \u001b[38;5;124mf\u001b[39m\u001b[38;5;124m\"\u001b[39m\u001b[38;5;124mIPython won\u001b[39m\u001b[38;5;124m'\u001b[39m\u001b[38;5;124mt let you open fd=\u001b[39m\u001b[38;5;132;01m{\u001b[39;00mfile\u001b[38;5;132;01m}\u001b[39;00m\u001b[38;5;124m by default \u001b[39m\u001b[38;5;124m\"\u001b[39m\n\u001b[0;32m    320\u001b[0m         \u001b[38;5;124m\"\u001b[39m\u001b[38;5;124mas it is likely to crash IPython. If you know what you are doing, \u001b[39m\u001b[38;5;124m\"\u001b[39m\n\u001b[0;32m    321\u001b[0m         \u001b[38;5;124m\"\u001b[39m\u001b[38;5;124myou can use builtins\u001b[39m\u001b[38;5;124m'\u001b[39m\u001b[38;5;124m open.\u001b[39m\u001b[38;5;124m\"\u001b[39m\n\u001b[0;32m    322\u001b[0m     )\n\u001b[1;32m--> 324\u001b[0m \u001b[38;5;28;01mreturn\u001b[39;00m \u001b[43mio_open\u001b[49m\u001b[43m(\u001b[49m\u001b[43mfile\u001b[49m\u001b[43m,\u001b[49m\u001b[43m \u001b[49m\u001b[38;5;241;43m*\u001b[39;49m\u001b[43margs\u001b[49m\u001b[43m,\u001b[49m\u001b[43m \u001b[49m\u001b[38;5;241;43m*\u001b[39;49m\u001b[38;5;241;43m*\u001b[39;49m\u001b[43mkwargs\u001b[49m\u001b[43m)\u001b[49m\n",
      "\u001b[1;31mFileNotFoundError\u001b[0m: [Errno 2] No such file or directory: '../data/carteira.txt'"
     ]
    }
   ],
   "source": [
    "import pandas as pd\n",
    "import yfinance as yf\n",
    "import pandas_datareader.data as pdr\n",
    "\n",
    "# Ajuste para versões novas do yfinance\n",
    "pdr.get_data_yahoo = yf.download  \n",
    "\n",
    "# Lendo a carteira\n",
    "with open(\"../data/carteira.txt\", \"r\") as arquivo:\n",
    "    linhas = arquivo.readlines()\n",
    "\n",
    "carteira = {}\n",
    "for linha in linhas:\n",
    "    ticker, valor = linha.strip().split(\" - \")\n",
    "    ticker = f\"{ticker}.SA\"\n",
    "    carteira[ticker] = float(valor)\n",
    "\n",
    "# Buscar cotações\n",
    "data_inicial = \"2024-01-02\"\n",
    "data_final = \"2024-12-15\"\n",
    "tickers = list(carteira.keys())\n",
    "cotacoes = pdr.get_data_yahoo(tickers, start=data_inicial, end=data_final)[\"Adj Close\"]\n",
    "\n",
    "# Calcular rentabilidade\n",
    "precos_iniciais = cotacoes.iloc[0]\n",
    "precos_finais = cotacoes.iloc[-1]\n",
    "variacao_percentual = (precos_finais - precos_iniciais) / precos_iniciais\n",
    "rentabilidade_individual = variacao_percentual * pd.Series(carteira)\n",
    "\n",
    "# Comparação com IBOV\n",
    "cotacao_ibov = pdr.get_data_yahoo(\"^BVSP\", start=data_inicial, end=data_final)[\"Adj Close\"]\n",
    "variacao_ibov = (cotacao_ibov.iloc[-1] - cotacao_ibov.iloc[0]) / cotacao_ibov.iloc[0] * 100\n",
    "\n",
    "# Exibir resultados\n",
    "print(\"\\nRentabilidade de cada ativo na carteira (%):\")\n",
    "print(rentabilidade_individual * 100)\n",
    "print(f\"\\nRentabilidade total da carteira: {rentabilidade_total:.2f}%\")\n",
    "print(f\"\\nRentabilidade do IBOV: {variacao_ibov:.2f}%\")\n",
    "print(f\"A carteira {'GANHOU' if rentabilidade_total > variacao_ibov else 'PERDEU'} do IBOV.\")\n",
    "\n"
   ]
  },
  {
   "cell_type": "code",
   "execution_count": null,
   "id": "9419b2ae-5608-4f50-99c5-7e292ddb2c22",
   "metadata": {},
   "outputs": [],
   "source": []
  }
 ],
 "metadata": {
  "kernelspec": {
   "display_name": "Python 3 (ipykernel)",
   "language": "python",
   "name": "python3"
  },
  "language_info": {
   "codemirror_mode": {
    "name": "ipython",
    "version": 3
   },
   "file_extension": ".py",
   "mimetype": "text/x-python",
   "name": "python",
   "nbconvert_exporter": "python",
   "pygments_lexer": "ipython3",
   "version": "3.12.9"
  }
 },
 "nbformat": 4,
 "nbformat_minor": 5
}
